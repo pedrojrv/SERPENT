{
 "cells": [
  {
   "cell_type": "code",
   "execution_count": 81,
   "metadata": {},
   "outputs": [],
   "source": [
    "import os\n",
    "import shutil\n",
    "from subprocess import CalledProcessError, Popen, PIPE\n",
    "import subprocess\n",
    "import numpy as np\n",
    "import re\n",
    "from pathlib import Path\n",
    "import pandas as pd\n",
    "from decimal import Decimal"
   ]
  },
  {
   "cell_type": "code",
   "execution_count": 35,
   "metadata": {},
   "outputs": [
    {
     "name": "stdout",
     "output_type": "stream",
     "text": [
      "Process is interrupted.\n"
     ]
    }
   ],
   "source": [
    "%%bash\n",
    "/mnt/c/Users/vicen/Documents/Serpent/Serpent2/Serpent2/sss2 -omp 4 lattice"
   ]
  },
  {
   "cell_type": "code",
   "execution_count": 105,
   "metadata": {},
   "outputs": [],
   "source": [
    "import scipy.io\n",
    "mat = scipy.io.loadmat('matlab.mat')"
   ]
  },
  {
   "cell_type": "code",
   "execution_count": 137,
   "metadata": {},
   "outputs": [],
   "source": [
    "xe = mat['iXe135']\n",
    "u = mat['iU235']\n",
    "u8 = mat['iPu239']\n",
    "a = mat['iGd157']"
   ]
  },
  {
   "cell_type": "code",
   "execution_count": 138,
   "metadata": {},
   "outputs": [
    {
     "name": "stdout",
     "output_type": "stream",
     "text": [
      "[[4]]\n"
     ]
    }
   ],
   "source": [
    "print(a)"
   ]
  },
  {
   "cell_type": "code",
   "execution_count": 118,
   "metadata": {},
   "outputs": [],
   "source": [
    "tot_mass = mat['TOT_MASS']"
   ]
  },
  {
   "cell_type": "code",
   "execution_count": 125,
   "metadata": {},
   "outputs": [
    {
     "data": {
      "text/plain": [
       "array([[1.14778e+09, 1.14487e+09],\n",
       "       [0.00000e+00, 1.42170e+06],\n",
       "       [0.00000e+00, 1.92438e+02],\n",
       "       [0.00000e+00, 6.64630e+01],\n",
       "       [0.00000e+00, 1.11727e+01],\n",
       "       [0.00000e+00, 1.60946e+01],\n",
       "       [0.00000e+00, 0.00000e+00],\n",
       "       [5.20222e+10, 5.20221e+10]])"
      ]
     },
     "execution_count": 125,
     "metadata": {},
     "output_type": "execute_result"
    }
   ],
   "source": [
    "tot_mass"
   ]
  },
  {
   "cell_type": "code",
   "execution_count": null,
   "metadata": {},
   "outputs": [],
   "source": [
    "subprocess.run(cmd, cwd=workingdir, input=\"\\n\".join(['y', 'p', '1', ini_time, end_time,\n",
    "                                                         'p','2', ini_time, end_time,\n",
    "                                                         'p','3', ini_time, end_time,\n",
    "                                                         'p','4', ini_time, end_time,\n",
    "                                                         'p','5', ini_time, end_time,\n",
    "                                                        ]), universal_newlines=True)"
   ]
  },
  {
   "cell_type": "code",
   "execution_count": null,
   "metadata": {},
   "outputs": [],
   "source": [
    "#Ensures every run starts fresh (previous outputs are deleted)\n",
    "shutil.rmtree(path = \"TTB_outputs\", ignore_errors = True)\n",
    "\n",
    "for i in range(0,len(dist)): #xrange indexes on the distances list\n",
    "    alliso = pd.DataFrame() #Starts empty dataframe which will be used to export CSV\n",
    "\n",
    "    #Setting up Directories\n",
    "    #copying fortran executable to a new folder i, and creating output and working directory\n",
    "    shutil.copytree(\"TTB\", \"TTB_outputs/TTB{}\".format(i))\n",
    "    cmd = (os.path.abspath(\"TTB_outputs\") + \"\\\\TTB{}\\\\TTB.exe\").format(i)\n",
    "    workingdir = (os.path.abspath(\"TTB_outputs\") + \"\\\\TTB{}\").format(i)\n",
    "    TTBpath = os.path.abspath(\"TTB_outputs/TTB{}\".format(i))\n",
    "    \n",
    "    #Joins the path of the executable folder to the modifyable TTB input and writes a new one needed for the executable\n",
    "    with open(os.path.join(TTBpath, \"TTBmodify.dat\"), 'r') as input_file, open(os.path.join(TTBpath, \"TTB.dat\"), 'w') as output_file:\n",
    "        for line in input_file:\n",
    "            if line.strip() == 'substitute':\n",
    "                output_file.write('{}\\n'.format(dist[i])) #Writes observation distance to the input file\n",
    "            else:\n",
    "                output_file.write(line)\n",
    "    \n",
    "    #running executable for elements 1 to 5\n",
    "    if analysis_type == \"p\":\n",
    "        subprocess.run(cmd, cwd=workingdir, input=\"\\n\".join(['y', 'p', '1', ini_time, end_time,\n",
    "                                                         'p','2', ini_time, end_time,\n",
    "                                                         'p','3', ini_time, end_time,\n",
    "                                                         'p','4', ini_time, end_time,\n",
    "                                                         'p','5', ini_time, end_time,\n",
    "                                                        ]), universal_newlines=True)"
   ]
  }
 ],
 "metadata": {
  "kernelspec": {
   "display_name": "Python 3",
   "language": "python",
   "name": "python3"
  },
  "language_info": {
   "codemirror_mode": {
    "name": "ipython",
    "version": 3
   },
   "file_extension": ".py",
   "mimetype": "text/x-python",
   "name": "python",
   "nbconvert_exporter": "python",
   "pygments_lexer": "ipython3",
   "version": "3.7.2"
  }
 },
 "nbformat": 4,
 "nbformat_minor": 2
}
